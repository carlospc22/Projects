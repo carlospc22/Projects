{
  "nbformat": 4,
  "nbformat_minor": 0,
  "metadata": {
    "colab": {
      "name": "gol1.ipynb",
      "provenance": [],
      "collapsed_sections": []
    },
    "kernelspec": {
      "name": "python3",
      "display_name": "Python 3"
    },
    "language_info": {
      "name": "python"
    }
  },
  "cells": [
    {
      "cell_type": "markdown",
      "metadata": {
        "id": "DFGVZnfgXXE5"
      },
      "source": [
        "# **Desafio Gol**"
      ]
    },
    {
      "cell_type": "markdown",
      "metadata": {
        "id": "meEA435CX25v"
      },
      "source": [
        "## **Pré Processamento**"
      ]
    },
    {
      "cell_type": "code",
      "metadata": {
        "id": "-UaIVemWZSXL"
      },
      "source": [
        "import pandas as pd\n",
        "import numpy as np\n",
        "import matplotlib.pyplot as plt\n",
        "import seaborn as sns"
      ],
      "execution_count": null,
      "outputs": []
    },
    {
      "cell_type": "code",
      "metadata": {
        "id": "O_rJbh3cZyY-"
      },
      "source": [
        "df = pd.read_excel(\"case_analytics-ds.xlsx\",\n",
        "                   sheet_name = \"Dados\"\n",
        "                   )"
      ],
      "execution_count": null,
      "outputs": []
    },
    {
      "cell_type": "code",
      "metadata": {
        "colab": {
          "base_uri": "https://localhost:8080/"
        },
        "id": "eC3NuNmnavZk",
        "outputId": "6b783063-8168-41ae-c98a-bd102623ddc5"
      },
      "source": [
        "# Nessa Etapa, aplico o pré processamento dos dados e entendo a sua natureza\n",
        "df.head()"
      ],
      "execution_count": null,
      "outputs": [
        {
          "output_type": "execute_result",
          "data": {
            "text/html": [
              "<div>\n",
              "<style scoped>\n",
              "    .dataframe tbody tr th:only-of-type {\n",
              "        vertical-align: middle;\n",
              "    }\n",
              "\n",
              "    .dataframe tbody tr th {\n",
              "        vertical-align: top;\n",
              "    }\n",
              "\n",
              "    .dataframe thead th {\n",
              "        text-align: right;\n",
              "    }\n",
              "</style>\n",
              "<table border=\"1\" class=\"dataframe\">\n",
              "  <thead>\n",
              "    <tr style=\"text-align: right;\">\n",
              "      <th></th>\n",
              "      <th>Data Venda</th>\n",
              "      <th>Canal de Venda</th>\n",
              "      <th>Local de Venda</th>\n",
              "      <th>PAX</th>\n",
              "      <th>Monetário Vendido</th>\n",
              "      <th>RPK</th>\n",
              "    </tr>\n",
              "  </thead>\n",
              "  <tbody>\n",
              "    <tr>\n",
              "      <th>0</th>\n",
              "      <td>2016-11-01</td>\n",
              "      <td>Telégrafo</td>\n",
              "      <td>Mindscape</td>\n",
              "      <td>30</td>\n",
              "      <td>2188.109487</td>\n",
              "      <td>3476</td>\n",
              "    </tr>\n",
              "    <tr>\n",
              "      <th>1</th>\n",
              "      <td>2016-11-01</td>\n",
              "      <td>TeleVenda</td>\n",
              "      <td>Arena</td>\n",
              "      <td>52</td>\n",
              "      <td>3302.375951</td>\n",
              "      <td>8197</td>\n",
              "    </tr>\n",
              "    <tr>\n",
              "      <th>2</th>\n",
              "      <td>2016-11-01</td>\n",
              "      <td>TeleVenda</td>\n",
              "      <td>Mindscape</td>\n",
              "      <td>19</td>\n",
              "      <td>1041.544400</td>\n",
              "      <td>2425</td>\n",
              "    </tr>\n",
              "    <tr>\n",
              "      <th>3</th>\n",
              "      <td>2016-11-01</td>\n",
              "      <td>Porta a Porta</td>\n",
              "      <td>Mindscape</td>\n",
              "      <td>496</td>\n",
              "      <td>15566.340547</td>\n",
              "      <td>53278</td>\n",
              "    </tr>\n",
              "    <tr>\n",
              "      <th>4</th>\n",
              "      <td>2016-11-01</td>\n",
              "      <td>TeleVenda</td>\n",
              "      <td>Vast</td>\n",
              "      <td>46</td>\n",
              "      <td>2721.427289</td>\n",
              "      <td>2039</td>\n",
              "    </tr>\n",
              "  </tbody>\n",
              "</table>\n",
              "</div>"
            ],
            "text/plain": [
              "  Data Venda Canal de Venda Local de Venda  PAX  Monetário Vendido    RPK\n",
              "0 2016-11-01      Telégrafo      Mindscape   30        2188.109487   3476\n",
              "1 2016-11-01      TeleVenda          Arena   52        3302.375951   8197\n",
              "2 2016-11-01      TeleVenda      Mindscape   19        1041.544400   2425\n",
              "3 2016-11-01  Porta a Porta      Mindscape  496       15566.340547  53278\n",
              "4 2016-11-01      TeleVenda           Vast   46        2721.427289   2039"
            ]
          },
          "metadata": {
            "tags": []
          },
          "execution_count": 306
        }
      ]
    },
    {
      "cell_type": "code",
      "metadata": {
        "colab": {
          "base_uri": "https://localhost:8080/"
        },
        "id": "6wd9rG-yaxiV",
        "outputId": "dda6c9e9-8695-4621-97b2-860984178e50"
      },
      "source": [
        "df.info()"
      ],
      "execution_count": null,
      "outputs": [
        {
          "output_type": "stream",
          "text": [
            "<class 'pandas.core.frame.DataFrame'>\n",
            "RangeIndex: 2432 entries, 0 to 2431\n",
            "Data columns (total 6 columns):\n",
            " #   Column             Non-Null Count  Dtype         \n",
            "---  ------             --------------  -----         \n",
            " 0   Data Venda         2432 non-null   datetime64[ns]\n",
            " 1   Canal de Venda     2432 non-null   object        \n",
            " 2   Local de Venda     2432 non-null   object        \n",
            " 3   PAX                2432 non-null   int64         \n",
            " 4   Monetário Vendido  2432 non-null   float64       \n",
            " 5   RPK                2432 non-null   int64         \n",
            "dtypes: datetime64[ns](1), float64(1), int64(2), object(2)\n",
            "memory usage: 114.1+ KB\n"
          ],
          "name": "stdout"
        }
      ]
    },
    {
      "cell_type": "code",
      "metadata": {
        "colab": {
          "base_uri": "https://localhost:8080/"
        },
        "id": "VdVti86za0F1",
        "outputId": "1bcd5f9d-9c2a-4475-a667-5e2b347dbc27"
      },
      "source": [
        "df.describe()"
      ],
      "execution_count": null,
      "outputs": [
        {
          "output_type": "execute_result",
          "data": {
            "text/html": [
              "<div>\n",
              "<style scoped>\n",
              "    .dataframe tbody tr th:only-of-type {\n",
              "        vertical-align: middle;\n",
              "    }\n",
              "\n",
              "    .dataframe tbody tr th {\n",
              "        vertical-align: top;\n",
              "    }\n",
              "\n",
              "    .dataframe thead th {\n",
              "        text-align: right;\n",
              "    }\n",
              "</style>\n",
              "<table border=\"1\" class=\"dataframe\">\n",
              "  <thead>\n",
              "    <tr style=\"text-align: right;\">\n",
              "      <th></th>\n",
              "      <th>PAX</th>\n",
              "      <th>Monetário Vendido</th>\n",
              "      <th>RPK</th>\n",
              "    </tr>\n",
              "  </thead>\n",
              "  <tbody>\n",
              "    <tr>\n",
              "      <th>count</th>\n",
              "      <td>2432.000000</td>\n",
              "      <td>2432.000000</td>\n",
              "      <td>2432.000000</td>\n",
              "    </tr>\n",
              "    <tr>\n",
              "      <th>mean</th>\n",
              "      <td>723.002878</td>\n",
              "      <td>24638.740498</td>\n",
              "      <td>66738.389391</td>\n",
              "    </tr>\n",
              "    <tr>\n",
              "      <th>std</th>\n",
              "      <td>735.936451</td>\n",
              "      <td>22424.842904</td>\n",
              "      <td>83479.039478</td>\n",
              "    </tr>\n",
              "    <tr>\n",
              "      <th>min</th>\n",
              "      <td>18.000000</td>\n",
              "      <td>1041.544400</td>\n",
              "      <td>1127.000000</td>\n",
              "    </tr>\n",
              "    <tr>\n",
              "      <th>25%</th>\n",
              "      <td>100.000000</td>\n",
              "      <td>6122.920492</td>\n",
              "      <td>11372.000000</td>\n",
              "    </tr>\n",
              "    <tr>\n",
              "      <th>50%</th>\n",
              "      <td>395.500000</td>\n",
              "      <td>17755.421730</td>\n",
              "      <td>33361.500000</td>\n",
              "    </tr>\n",
              "    <tr>\n",
              "      <th>75%</th>\n",
              "      <td>1160.250000</td>\n",
              "      <td>35535.323991</td>\n",
              "      <td>95116.750000</td>\n",
              "    </tr>\n",
              "    <tr>\n",
              "      <th>max</th>\n",
              "      <td>4705.000000</td>\n",
              "      <td>144890.731053</td>\n",
              "      <td>695824.000000</td>\n",
              "    </tr>\n",
              "  </tbody>\n",
              "</table>\n",
              "</div>"
            ],
            "text/plain": [
              "               PAX  Monetário Vendido            RPK\n",
              "count  2432.000000        2432.000000    2432.000000\n",
              "mean    723.002878       24638.740498   66738.389391\n",
              "std     735.936451       22424.842904   83479.039478\n",
              "min      18.000000        1041.544400    1127.000000\n",
              "25%     100.000000        6122.920492   11372.000000\n",
              "50%     395.500000       17755.421730   33361.500000\n",
              "75%    1160.250000       35535.323991   95116.750000\n",
              "max    4705.000000      144890.731053  695824.000000"
            ]
          },
          "metadata": {
            "tags": []
          },
          "execution_count": 308
        }
      ]
    },
    {
      "cell_type": "code",
      "metadata": {
        "colab": {
          "base_uri": "https://localhost:8080/"
        },
        "id": "WXQUwgz_bF5E",
        "outputId": "5bbbfc4a-4388-4d19-fb30-ae7e5a9057e5"
      },
      "source": [
        "# Descobrindo quantos canais exitem e seu respectivos nomes\n",
        "df['Canal de Venda'].unique()"
      ],
      "execution_count": null,
      "outputs": [
        {
          "output_type": "execute_result",
          "data": {
            "text/plain": [
              "array(['Telégrafo', 'TeleVenda', 'Porta a Porta'], dtype=object)"
            ]
          },
          "metadata": {
            "tags": []
          },
          "execution_count": 309
        }
      ]
    },
    {
      "cell_type": "code",
      "metadata": {
        "colab": {
          "base_uri": "https://localhost:8080/"
        },
        "id": "NiP_KXbQe4xS",
        "outputId": "7e3f2975-1c57-4bbd-9b4b-0384aa803cc4"
      },
      "source": [
        "# Descobrindo quantos locais exitem e seu respectivos nomes\n",
        "df['Local de Venda'].unique()"
      ],
      "execution_count": null,
      "outputs": [
        {
          "output_type": "execute_result",
          "data": {
            "text/plain": [
              "array(['Mindscape', 'Arena', 'Vast', 'Ellipsis'], dtype=object)"
            ]
          },
          "metadata": {
            "tags": []
          },
          "execution_count": 310
        }
      ]
    },
    {
      "cell_type": "code",
      "metadata": {
        "id": "rnCj3JYyfNoP"
      },
      "source": [
        "# Criando variaveis de tempo, para auxiliar as buscas e procuras\n",
        "df['Mes']= df['Data Venda'].dt.month\n",
        "df['Ano']= df['Data Venda'].dt.year\n",
        "df['Semana']= df['Data Venda'].dt.dayofweek"
      ],
      "execution_count": null,
      "outputs": []
    },
    {
      "cell_type": "code",
      "metadata": {
        "id": "HufcIv1lSa86"
      },
      "source": [
        "# Guardando a numeração de cada dia da semana\n",
        "#days = {0:'Mon',1:'Tues',2:'Weds',3:'Thurs',4:'Fri',5:'Sat',6:'Sun'}"
      ],
      "execution_count": null,
      "outputs": []
    },
    {
      "cell_type": "code",
      "metadata": {
        "colab": {
          "base_uri": "https://localhost:8080/"
        },
        "id": "oHE8WsSR5n6R",
        "outputId": "55b81f2c-1c25-4f60-ffb2-f2bee662540b"
      },
      "source": [
        "df.head()"
      ],
      "execution_count": null,
      "outputs": [
        {
          "output_type": "execute_result",
          "data": {
            "text/html": [
              "<div>\n",
              "<style scoped>\n",
              "    .dataframe tbody tr th:only-of-type {\n",
              "        vertical-align: middle;\n",
              "    }\n",
              "\n",
              "    .dataframe tbody tr th {\n",
              "        vertical-align: top;\n",
              "    }\n",
              "\n",
              "    .dataframe thead th {\n",
              "        text-align: right;\n",
              "    }\n",
              "</style>\n",
              "<table border=\"1\" class=\"dataframe\">\n",
              "  <thead>\n",
              "    <tr style=\"text-align: right;\">\n",
              "      <th></th>\n",
              "      <th>Data Venda</th>\n",
              "      <th>Canal de Venda</th>\n",
              "      <th>Local de Venda</th>\n",
              "      <th>PAX</th>\n",
              "      <th>Monetário Vendido</th>\n",
              "      <th>RPK</th>\n",
              "      <th>Mes</th>\n",
              "      <th>Ano</th>\n",
              "      <th>Semana</th>\n",
              "    </tr>\n",
              "  </thead>\n",
              "  <tbody>\n",
              "    <tr>\n",
              "      <th>0</th>\n",
              "      <td>2016-11-01</td>\n",
              "      <td>Telégrafo</td>\n",
              "      <td>Mindscape</td>\n",
              "      <td>30</td>\n",
              "      <td>2188.109487</td>\n",
              "      <td>3476</td>\n",
              "      <td>11</td>\n",
              "      <td>2016</td>\n",
              "      <td>1</td>\n",
              "    </tr>\n",
              "    <tr>\n",
              "      <th>1</th>\n",
              "      <td>2016-11-01</td>\n",
              "      <td>TeleVenda</td>\n",
              "      <td>Arena</td>\n",
              "      <td>52</td>\n",
              "      <td>3302.375951</td>\n",
              "      <td>8197</td>\n",
              "      <td>11</td>\n",
              "      <td>2016</td>\n",
              "      <td>1</td>\n",
              "    </tr>\n",
              "    <tr>\n",
              "      <th>2</th>\n",
              "      <td>2016-11-01</td>\n",
              "      <td>TeleVenda</td>\n",
              "      <td>Mindscape</td>\n",
              "      <td>19</td>\n",
              "      <td>1041.544400</td>\n",
              "      <td>2425</td>\n",
              "      <td>11</td>\n",
              "      <td>2016</td>\n",
              "      <td>1</td>\n",
              "    </tr>\n",
              "    <tr>\n",
              "      <th>3</th>\n",
              "      <td>2016-11-01</td>\n",
              "      <td>Porta a Porta</td>\n",
              "      <td>Mindscape</td>\n",
              "      <td>496</td>\n",
              "      <td>15566.340547</td>\n",
              "      <td>53278</td>\n",
              "      <td>11</td>\n",
              "      <td>2016</td>\n",
              "      <td>1</td>\n",
              "    </tr>\n",
              "    <tr>\n",
              "      <th>4</th>\n",
              "      <td>2016-11-01</td>\n",
              "      <td>TeleVenda</td>\n",
              "      <td>Vast</td>\n",
              "      <td>46</td>\n",
              "      <td>2721.427289</td>\n",
              "      <td>2039</td>\n",
              "      <td>11</td>\n",
              "      <td>2016</td>\n",
              "      <td>1</td>\n",
              "    </tr>\n",
              "  </tbody>\n",
              "</table>\n",
              "</div>"
            ],
            "text/plain": [
              "  Data Venda Canal de Venda Local de Venda  PAX  ...    RPK  Mes   Ano  Semana\n",
              "0 2016-11-01      Telégrafo      Mindscape   30  ...   3476   11  2016       1\n",
              "1 2016-11-01      TeleVenda          Arena   52  ...   8197   11  2016       1\n",
              "2 2016-11-01      TeleVenda      Mindscape   19  ...   2425   11  2016       1\n",
              "3 2016-11-01  Porta a Porta      Mindscape  496  ...  53278   11  2016       1\n",
              "4 2016-11-01      TeleVenda           Vast   46  ...   2039   11  2016       1\n",
              "\n",
              "[5 rows x 9 columns]"
            ]
          },
          "metadata": {
            "tags": []
          },
          "execution_count": 313
        }
      ]
    },
    {
      "cell_type": "code",
      "metadata": {
        "colab": {
          "base_uri": "https://localhost:8080/"
        },
        "id": "S6wwkx2n6VdZ",
        "outputId": "37cbcd28-750c-4260-c8ac-9e2f47e7a44c"
      },
      "source": [
        "# Analisando as variaveis mes e ano\n",
        "df['Mes'].unique()"
      ],
      "execution_count": null,
      "outputs": [
        {
          "output_type": "execute_result",
          "data": {
            "text/plain": [
              "array([11, 12,  1,  2,  3,  4])"
            ]
          },
          "metadata": {
            "tags": []
          },
          "execution_count": 314
        }
      ]
    },
    {
      "cell_type": "code",
      "metadata": {
        "colab": {
          "base_uri": "https://localhost:8080/"
        },
        "id": "HhclnFLzXk52",
        "outputId": "35eecde0-ff42-4875-c0b7-f19e01633c51"
      },
      "source": [
        "df['Ano'].unique()"
      ],
      "execution_count": null,
      "outputs": [
        {
          "output_type": "execute_result",
          "data": {
            "text/plain": [
              "array([2016, 2017])"
            ]
          },
          "metadata": {
            "tags": []
          },
          "execution_count": 315
        }
      ]
    },
    {
      "cell_type": "markdown",
      "metadata": {
        "id": "EZtPVAnQX-if"
      },
      "source": [
        "## **1**"
      ]
    },
    {
      "cell_type": "code",
      "metadata": {
        "id": "xafw0nBM7kNw",
        "colab": {
          "base_uri": "https://localhost:8080/"
        },
        "outputId": "f6e3a30a-e802-4bed-e227-5b570746a308"
      },
      "source": [
        "# Utilizei uma lista com os dias da semana e adicionei em um dicionario\n",
        "# O dicionario que tem como chave os dias da semana e como valor o somatorio dos PAX\n",
        "semana=['Segunda','Terça','Quarta','Quinta','Sexta','Sabado','Domingo']\n",
        "i=0\n",
        "pax= {}\n",
        "while i<7:\n",
        "  a=df[(df['Semana']==i)]['PAX'].sum()\n",
        "  pax[semana[i]]= a\n",
        "  i=i+1\n",
        "pax"
      ],
      "execution_count": null,
      "outputs": [
        {
          "output_type": "execute_result",
          "data": {
            "text/plain": [
              "{'Domingo': 241620,\n",
              " 'Quarta': 293025,\n",
              " 'Quinta': 258488,\n",
              " 'Sabado': 253467,\n",
              " 'Segunda': 236316,\n",
              " 'Sexta': 255625,\n",
              " 'Terça': 219802}"
            ]
          },
          "metadata": {
            "tags": []
          },
          "execution_count": 4
        }
      ]
    },
    {
      "cell_type": "code",
      "metadata": {
        "id": "y2RK23h3Fe8Z",
        "colab": {
          "base_uri": "https://localhost:8080/"
        },
        "outputId": "e9547b72-8ad2-40a1-b429-b0ce7d5152f9"
      },
      "source": [
        "# Utilizei da função sort com o lambda igual ao valor do dicionario\n",
        "# Foi invertido para o ranking em ordem decrescente\n",
        "sortedDict = sorted(pax.items(), key=lambda x: x[1],reverse=True)\n",
        "sortedDict"
      ],
      "execution_count": null,
      "outputs": [
        {
          "output_type": "execute_result",
          "data": {
            "text/plain": [
              "[('Quarta', 293025),\n",
              " ('Quinta', 258488),\n",
              " ('Sexta', 255625),\n",
              " ('Sabado', 253467),\n",
              " ('Domingo', 241620),\n",
              " ('Segunda', 236316),\n",
              " ('Terça', 219802)]"
            ]
          },
          "metadata": {
            "tags": []
          },
          "execution_count": 5
        }
      ]
    },
    {
      "cell_type": "markdown",
      "metadata": {
        "id": "9JsOT-n2YFx_"
      },
      "source": [
        "## **2** "
      ]
    },
    {
      "cell_type": "code",
      "metadata": {
        "id": "aI83x2T8Gl_p"
      },
      "source": [
        "# Utilizei o pandas para aplicar um slice \n",
        "# Assim apenas os dados requeridos são analisados\n",
        "df1=df[(df['Semana']==6)|(df['Semana']==5)]"
      ],
      "execution_count": null,
      "outputs": []
    },
    {
      "cell_type": "code",
      "metadata": {
        "colab": {
          "base_uri": "https://localhost:8080/",
          "height": 235
        },
        "id": "cQK1yi_kHgjA",
        "outputId": "3e9ad3f4-82df-4999-c0e0-04d87850a70b"
      },
      "source": [
        "# Usei a correlação de Pearson para a analise e comparei com o dataframe original\n",
        "correlations = df1.corr(method='pearson')\n",
        "correlations"
      ],
      "execution_count": null,
      "outputs": [
        {
          "output_type": "execute_result",
          "data": {
            "text/html": [
              "<div>\n",
              "<style scoped>\n",
              "    .dataframe tbody tr th:only-of-type {\n",
              "        vertical-align: middle;\n",
              "    }\n",
              "\n",
              "    .dataframe tbody tr th {\n",
              "        vertical-align: top;\n",
              "    }\n",
              "\n",
              "    .dataframe thead th {\n",
              "        text-align: right;\n",
              "    }\n",
              "</style>\n",
              "<table border=\"1\" class=\"dataframe\">\n",
              "  <thead>\n",
              "    <tr style=\"text-align: right;\">\n",
              "      <th></th>\n",
              "      <th>PAX</th>\n",
              "      <th>Monetário Vendido</th>\n",
              "      <th>RPK</th>\n",
              "      <th>Mes</th>\n",
              "      <th>Ano</th>\n",
              "      <th>Semana</th>\n",
              "    </tr>\n",
              "  </thead>\n",
              "  <tbody>\n",
              "    <tr>\n",
              "      <th>PAX</th>\n",
              "      <td>1.000000</td>\n",
              "      <td>0.944510</td>\n",
              "      <td>0.821957</td>\n",
              "      <td>-0.040435</td>\n",
              "      <td>0.041457</td>\n",
              "      <td>-0.000705</td>\n",
              "    </tr>\n",
              "    <tr>\n",
              "      <th>Monetário Vendido</th>\n",
              "      <td>0.944510</td>\n",
              "      <td>1.000000</td>\n",
              "      <td>0.885230</td>\n",
              "      <td>-0.014040</td>\n",
              "      <td>0.012794</td>\n",
              "      <td>-0.008638</td>\n",
              "    </tr>\n",
              "    <tr>\n",
              "      <th>RPK</th>\n",
              "      <td>0.821957</td>\n",
              "      <td>0.885230</td>\n",
              "      <td>1.000000</td>\n",
              "      <td>-0.032729</td>\n",
              "      <td>0.033179</td>\n",
              "      <td>0.004653</td>\n",
              "    </tr>\n",
              "    <tr>\n",
              "      <th>Mes</th>\n",
              "      <td>-0.040435</td>\n",
              "      <td>-0.014040</td>\n",
              "      <td>-0.032729</td>\n",
              "      <td>1.000000</td>\n",
              "      <td>-0.986665</td>\n",
              "      <td>-0.045551</td>\n",
              "    </tr>\n",
              "    <tr>\n",
              "      <th>Ano</th>\n",
              "      <td>0.041457</td>\n",
              "      <td>0.012794</td>\n",
              "      <td>0.033179</td>\n",
              "      <td>-0.986665</td>\n",
              "      <td>1.000000</td>\n",
              "      <td>0.028768</td>\n",
              "    </tr>\n",
              "    <tr>\n",
              "      <th>Semana</th>\n",
              "      <td>-0.000705</td>\n",
              "      <td>-0.008638</td>\n",
              "      <td>0.004653</td>\n",
              "      <td>-0.045551</td>\n",
              "      <td>0.028768</td>\n",
              "      <td>1.000000</td>\n",
              "    </tr>\n",
              "  </tbody>\n",
              "</table>\n",
              "</div>"
            ],
            "text/plain": [
              "                        PAX  Monetário Vendido  ...       Ano    Semana\n",
              "PAX                1.000000           0.944510  ...  0.041457 -0.000705\n",
              "Monetário Vendido  0.944510           1.000000  ...  0.012794 -0.008638\n",
              "RPK                0.821957           0.885230  ...  0.033179  0.004653\n",
              "Mes               -0.040435          -0.014040  ... -0.986665 -0.045551\n",
              "Ano                0.041457           0.012794  ...  1.000000  0.028768\n",
              "Semana            -0.000705          -0.008638  ...  0.028768  1.000000\n",
              "\n",
              "[6 rows x 6 columns]"
            ]
          },
          "metadata": {
            "tags": []
          },
          "execution_count": 243
        }
      ]
    },
    {
      "cell_type": "code",
      "metadata": {
        "colab": {
          "base_uri": "https://localhost:8080/",
          "height": 235
        },
        "id": "68QRhMpgB6ke",
        "outputId": "4cc3a943-29b9-4927-bad8-4e5d4d1219c7"
      },
      "source": [
        "correlations = df.corr(method='pearson')\n",
        "correlations"
      ],
      "execution_count": null,
      "outputs": [
        {
          "output_type": "execute_result",
          "data": {
            "text/html": [
              "<div>\n",
              "<style scoped>\n",
              "    .dataframe tbody tr th:only-of-type {\n",
              "        vertical-align: middle;\n",
              "    }\n",
              "\n",
              "    .dataframe tbody tr th {\n",
              "        vertical-align: top;\n",
              "    }\n",
              "\n",
              "    .dataframe thead th {\n",
              "        text-align: right;\n",
              "    }\n",
              "</style>\n",
              "<table border=\"1\" class=\"dataframe\">\n",
              "  <thead>\n",
              "    <tr style=\"text-align: right;\">\n",
              "      <th></th>\n",
              "      <th>PAX</th>\n",
              "      <th>Monetário Vendido</th>\n",
              "      <th>RPK</th>\n",
              "      <th>Mes</th>\n",
              "      <th>Ano</th>\n",
              "      <th>Semana</th>\n",
              "    </tr>\n",
              "  </thead>\n",
              "  <tbody>\n",
              "    <tr>\n",
              "      <th>PAX</th>\n",
              "      <td>1.000000</td>\n",
              "      <td>0.914135</td>\n",
              "      <td>0.840146</td>\n",
              "      <td>-0.054946</td>\n",
              "      <td>0.051640</td>\n",
              "      <td>0.012916</td>\n",
              "    </tr>\n",
              "    <tr>\n",
              "      <th>Monetário Vendido</th>\n",
              "      <td>0.914135</td>\n",
              "      <td>1.000000</td>\n",
              "      <td>0.875249</td>\n",
              "      <td>-0.031041</td>\n",
              "      <td>0.028281</td>\n",
              "      <td>0.147793</td>\n",
              "    </tr>\n",
              "    <tr>\n",
              "      <th>RPK</th>\n",
              "      <td>0.840146</td>\n",
              "      <td>0.875249</td>\n",
              "      <td>1.000000</td>\n",
              "      <td>-0.044487</td>\n",
              "      <td>0.041310</td>\n",
              "      <td>0.000134</td>\n",
              "    </tr>\n",
              "    <tr>\n",
              "      <th>Mes</th>\n",
              "      <td>-0.054946</td>\n",
              "      <td>-0.031041</td>\n",
              "      <td>-0.044487</td>\n",
              "      <td>1.000000</td>\n",
              "      <td>-0.987870</td>\n",
              "      <td>0.006342</td>\n",
              "    </tr>\n",
              "    <tr>\n",
              "      <th>Ano</th>\n",
              "      <td>0.051640</td>\n",
              "      <td>0.028281</td>\n",
              "      <td>0.041310</td>\n",
              "      <td>-0.987870</td>\n",
              "      <td>1.000000</td>\n",
              "      <td>0.000000</td>\n",
              "    </tr>\n",
              "    <tr>\n",
              "      <th>Semana</th>\n",
              "      <td>0.012916</td>\n",
              "      <td>0.147793</td>\n",
              "      <td>0.000134</td>\n",
              "      <td>0.006342</td>\n",
              "      <td>0.000000</td>\n",
              "      <td>1.000000</td>\n",
              "    </tr>\n",
              "  </tbody>\n",
              "</table>\n",
              "</div>"
            ],
            "text/plain": [
              "                        PAX  Monetário Vendido  ...       Ano    Semana\n",
              "PAX                1.000000           0.914135  ...  0.051640  0.012916\n",
              "Monetário Vendido  0.914135           1.000000  ...  0.028281  0.147793\n",
              "RPK                0.840146           0.875249  ...  0.041310  0.000134\n",
              "Mes               -0.054946          -0.031041  ... -0.987870  0.006342\n",
              "Ano                0.051640           0.028281  ...  1.000000  0.000000\n",
              "Semana             0.012916           0.147793  ...  0.000000  1.000000\n",
              "\n",
              "[6 rows x 6 columns]"
            ]
          },
          "metadata": {
            "tags": []
          },
          "execution_count": 244
        }
      ]
    },
    {
      "cell_type": "markdown",
      "metadata": {
        "id": "B8xlF3cbYMip"
      },
      "source": [
        "## **3**"
      ]
    },
    {
      "cell_type": "markdown",
      "metadata": {
        "id": "3e4wPyvNpF-0"
      },
      "source": [
        "### **Ideia Final**"
      ]
    },
    {
      "cell_type": "code",
      "metadata": {
        "id": "cZUH8_f0uAej",
        "colab": {
          "base_uri": "https://localhost:8080/",
          "height": 69
        },
        "outputId": "237c1b1e-6607-4a08-c73b-5fc72c999cec"
      },
      "source": [
        "\"\"\"\n",
        "No meu codigo inicial estava com dificuldades a priori\n",
        "resolvi o problema sem ser de forma manual \n",
        "utilizando uma dupla de loop for\n",
        "armazenei os resultados em dois dicionarios\n",
        "que utilizei o mesmo metodo anterior para ordenar\n",
        "\"\"\""
      ],
      "execution_count": null,
      "outputs": [
        {
          "output_type": "execute_result",
          "data": {
            "application/vnd.google.colaboratory.intrinsic+json": {
              "type": "string"
            },
            "text/plain": [
              "'\\nNo meu codigo inicial estava com dificuldades a priori\\nresolvi o problema sem ser de forma manual \\nutilizando uma dupla de loop for\\narmazenei os resultados em dois dicionarios\\nque utilizei o mesmo metodo anterior para ordenar\\n'"
            ]
          },
          "metadata": {
            "tags": []
          },
          "execution_count": 302
        }
      ]
    },
    {
      "cell_type": "code",
      "metadata": {
        "id": "LGXciUitXGzH"
      },
      "source": [
        "mes =[1,2,3,4,11,12]\n",
        "meses=['Janeiro','Fevereiro','Março','Abril','Novembro','Dezembro']\n",
        "canal=df['Canal de Venda'].unique()\n",
        "i=0\n",
        "j=0\n",
        "monetariomedia={}\n",
        "monetariomediana={}\n",
        "for i in range(len(mes)):\n",
        "  for j in range(len(canal)):\n",
        "    a= meses[i]+' '+canal[j]\n",
        "    b=df[(df['Mes']==mes[i])&(df['Canal de Venda']==canal[j])]['Monetário Vendido'].mean()\n",
        "    c=df[(df['Mes']==mes[i])&(df['Canal de Venda']==canal[j])]['Monetário Vendido'].median()\n",
        "    monetariomedia[a]=b\n",
        "    monetariomediana[a]=c\n",
        "    j=j+1\n",
        "  i=i+1"
      ],
      "execution_count": null,
      "outputs": []
    },
    {
      "cell_type": "code",
      "metadata": {
        "colab": {
          "base_uri": "https://localhost:8080/",
          "height": 35
        },
        "id": "gSi80-d5h_Yx",
        "outputId": "d9b74fce-7bc1-44b8-879f-5158b5e9a9e5"
      },
      "source": [
        "meses[0]"
      ],
      "execution_count": null,
      "outputs": [
        {
          "output_type": "execute_result",
          "data": {
            "application/vnd.google.colaboratory.intrinsic+json": {
              "type": "string"
            },
            "text/plain": [
              "'Janeiro'"
            ]
          },
          "metadata": {
            "tags": []
          },
          "execution_count": 331
        }
      ]
    },
    {
      "cell_type": "code",
      "metadata": {
        "colab": {
          "base_uri": "https://localhost:8080/"
        },
        "id": "eVAxLX0yAdkY",
        "outputId": "9a60fa47-bf9f-4969-84d6-f6c5ea4cd849"
      },
      "source": [
        "monetariomedia"
      ],
      "execution_count": null,
      "outputs": [
        {
          "output_type": "execute_result",
          "data": {
            "text/plain": [
              "{'Abril Porta a Porta': 33319.496262543136,\n",
              " 'Abril TeleVenda': 35795.78191505989,\n",
              " 'Abril Telégrafo': 3778.591834731236,\n",
              " 'Dezembro Porta a Porta': 28615.45250014608,\n",
              " 'Dezembro TeleVenda': 28045.72146147195,\n",
              " 'Dezembro Telégrafo': 5212.648055123086,\n",
              " 'Fevereiro Porta a Porta': 31710.148886151368,\n",
              " 'Fevereiro TeleVenda': 32208.44581835027,\n",
              " 'Fevereiro Telégrafo': 4307.6262728276815,\n",
              " 'Janeiro Porta a Porta': 31320.569487223205,\n",
              " 'Janeiro TeleVenda': 32868.88142893843,\n",
              " 'Janeiro Telégrafo': 4234.02256669485,\n",
              " 'Março Porta a Porta': 31055.939762396745,\n",
              " 'Março TeleVenda': 32132.24671211832,\n",
              " 'Março Telégrafo': 4568.148530922109,\n",
              " 'Novembro Porta a Porta': 34638.07179648989,\n",
              " 'Novembro TeleVenda': 30963.45934890067,\n",
              " 'Novembro Telégrafo': 4614.3100756299955}"
            ]
          },
          "metadata": {
            "tags": []
          },
          "execution_count": 325
        }
      ]
    },
    {
      "cell_type": "code",
      "metadata": {
        "colab": {
          "base_uri": "https://localhost:8080/"
        },
        "id": "mRgP1EDOAj2w",
        "outputId": "ce8f6109-de53-4bd7-90de-f8f6e6be16fe"
      },
      "source": [
        "monetariomediana"
      ],
      "execution_count": null,
      "outputs": [
        {
          "output_type": "execute_result",
          "data": {
            "text/plain": [
              "{'Abril Porta a Porta': 32421.609417997162,\n",
              " 'Abril TeleVenda': 28091.885619205026,\n",
              " 'Abril Telégrafo': 3458.8846660540144,\n",
              " 'Dezembro Porta a Porta': 25527.519294582755,\n",
              " 'Dezembro TeleVenda': 17567.600937751726,\n",
              " 'Dezembro Telégrafo': 4227.5779481237205,\n",
              " 'Fevereiro Porta a Porta': 29711.580145925567,\n",
              " 'Fevereiro TeleVenda': 18926.69023166578,\n",
              " 'Fevereiro Telégrafo': 4045.8931311515526,\n",
              " 'Janeiro Porta a Porta': 28823.025304702787,\n",
              " 'Janeiro TeleVenda': 19085.123237539552,\n",
              " 'Janeiro Telégrafo': 3782.248867662558,\n",
              " 'Março Porta a Porta': 30488.191027232337,\n",
              " 'Março TeleVenda': 18666.87996923318,\n",
              " 'Março Telégrafo': 4345.559552216315,\n",
              " 'Novembro Porta a Porta': 30262.9779680581,\n",
              " 'Novembro TeleVenda': 18757.707785280276,\n",
              " 'Novembro Telégrafo': 4029.1321305130978}"
            ]
          },
          "metadata": {
            "tags": []
          },
          "execution_count": 326
        }
      ]
    },
    {
      "cell_type": "code",
      "metadata": {
        "colab": {
          "base_uri": "https://localhost:8080/"
        },
        "id": "mOM1BIFD8fIm",
        "outputId": "a5842269-ab9b-4473-9a53-0e7173f755e2"
      },
      "source": [
        "sortedDictmedia = sorted(monetariomedia.items(), key=lambda x: x[1],reverse=True)\n",
        "sortedDictmedia\n"
      ],
      "execution_count": null,
      "outputs": [
        {
          "output_type": "execute_result",
          "data": {
            "text/plain": [
              "[('Abril TeleVenda', 35795.78191505989),\n",
              " ('Novembro Porta a Porta', 34638.07179648989),\n",
              " ('Abril Porta a Porta', 33319.496262543136),\n",
              " ('Janeiro TeleVenda', 32868.88142893843),\n",
              " ('Fevereiro TeleVenda', 32208.44581835027),\n",
              " ('Maio TeleVenda', 32132.24671211832),\n",
              " ('Fevereiro Porta a Porta', 31710.148886151368),\n",
              " ('Janeiro Porta a Porta', 31320.569487223205),\n",
              " ('Maio Porta a Porta', 31055.939762396745),\n",
              " ('Novembro TeleVenda', 30963.45934890067),\n",
              " ('Dezembro Porta a Porta', 28615.45250014608),\n",
              " ('Dezembro TeleVenda', 28045.72146147195),\n",
              " ('Dezembro Telégrafo', 5212.648055123086),\n",
              " ('Novembro Telégrafo', 4614.3100756299955),\n",
              " ('Maio Telégrafo', 4568.148530922109),\n",
              " ('Fevereiro Telégrafo', 4307.6262728276815),\n",
              " ('Janeiro Telégrafo', 4234.02256669485),\n",
              " ('Abril Telégrafo', 3778.591834731236)]"
            ]
          },
          "metadata": {
            "tags": []
          },
          "execution_count": 317
        }
      ]
    },
    {
      "cell_type": "code",
      "metadata": {
        "colab": {
          "base_uri": "https://localhost:8080/"
        },
        "id": "McoNM2eD805_",
        "outputId": "15ac90b1-d84b-467b-94ce-2233754eeed5"
      },
      "source": [
        "sortedDictmediana = sorted(monetariomediana.items(), key=lambda x: x[1],reverse=True)\n",
        "sortedDictmediana"
      ],
      "execution_count": null,
      "outputs": [
        {
          "output_type": "execute_result",
          "data": {
            "text/plain": [
              "[('Abril Porta a Porta', 32421.609417997162),\n",
              " ('Maio Porta a Porta', 30488.191027232337),\n",
              " ('Novembro Porta a Porta', 30262.9779680581),\n",
              " ('Fevereiro Porta a Porta', 29711.580145925567),\n",
              " ('Janeiro Porta a Porta', 28823.025304702787),\n",
              " ('Abril TeleVenda', 28091.885619205026),\n",
              " ('Dezembro Porta a Porta', 25527.519294582755),\n",
              " ('Janeiro TeleVenda', 19085.123237539552),\n",
              " ('Fevereiro TeleVenda', 18926.69023166578),\n",
              " ('Novembro TeleVenda', 18757.707785280276),\n",
              " ('Maio TeleVenda', 18666.87996923318),\n",
              " ('Dezembro TeleVenda', 17567.600937751726),\n",
              " ('Maio Telégrafo', 4345.559552216315),\n",
              " ('Dezembro Telégrafo', 4227.5779481237205),\n",
              " ('Fevereiro Telégrafo', 4045.8931311515526),\n",
              " ('Novembro Telégrafo', 4029.1321305130978),\n",
              " ('Janeiro Telégrafo', 3782.248867662558),\n",
              " ('Abril Telégrafo', 3458.8846660540144)]"
            ]
          },
          "metadata": {
            "tags": []
          },
          "execution_count": 318
        }
      ]
    },
    {
      "cell_type": "markdown",
      "metadata": {
        "id": "elv7lUGhYdZg"
      },
      "source": [
        "## **4**"
      ]
    },
    {
      "cell_type": "markdown",
      "metadata": {
        "id": "1oYz6fn4mCem"
      },
      "source": [
        "### **Mindscape**"
      ]
    },
    {
      "cell_type": "code",
      "metadata": {
        "id": "lzupB5SCumvk"
      },
      "source": [
        "\"\"\"\n",
        "Utilizei os graficos de dados posteriores para dar uma boa ideia visual\n",
        "dos Passageiros em cada região. Separei para terem um treinamento indiviual, assim como sua devida analise.\n",
        "\"\"\""
      ],
      "execution_count": null,
      "outputs": []
    },
    {
      "cell_type": "code",
      "metadata": {
        "colab": {
          "base_uri": "https://localhost:8080/",
          "height": 372
        },
        "id": "x7zutrDapH1m",
        "outputId": "3ef748e8-1969-4e00-f9bf-f3cf8fce83d7"
      },
      "source": [
        "plt.figure(figsize=(10, 5))\n",
        "plt.title('Passageiros Minscape', fontsize=14, fontweight='bold')\n",
        "plt.xticks(rotation=40 )\n",
        "plt.plot(dfz['Data'], dfz['PAX'],'.-', label='Predição')\n",
        "plt.grid()\n",
        "plt.legend()\n",
        "plt.show()"
      ],
      "execution_count": null,
      "outputs": [
        {
          "output_type": "display_data",
          "data": {
            "image/png": "[encoded data removed]",
            "text/plain": [
              "<Figure size 720x360 with 1 Axes>"
            ]
          },
          "metadata": {
            "tags": [],
            "needs_background": "light"
          }
        }
      ]
    },
    {
      "cell_type": "code",
      "metadata": {
        "id": "Nk6g0Bk4YBGE"
      },
      "source": [
        "# Criei um outro Dataframe com um slice da região requerida, resetei seu index\n",
        "# e dropei algumas colunas que não serão usadas\n",
        "dfa=df[(df['Local de Venda']=='Mindscape')].copy()\n",
        "dfa.reset_index(inplace=True)\n",
        "temporal=dfa['Data Venda']\n",
        "\n",
        "dfa.drop(labels=[\n",
        "                 'Canal de Venda','Local de Venda'\n",
        "],axis=1,inplace=True)"
      ],
      "execution_count": null,
      "outputs": []
    },
    {
      "cell_type": "code",
      "metadata": {
        "id": "Q6V7xBb6YKkc"
      },
      "source": [
        "\"\"\"\n",
        "Como cada região tem por volta de 4 instancias do mesmo dia\n",
        "utilizei um looping for para filtrar os dias e no local uma somatoria dos outros valores.\n",
        "\"\"\"\n",
        "pax=[]\n",
        "monetario=[]\n",
        "rpk=[]\n",
        "tempo=[]\n",
        "\n",
        "tam=len(dfa['Data Venda'].unique())\n",
        "datant=0\n",
        "for i in range(tam):\n",
        "\n",
        "\n",
        "  data=dfa['Data Venda'].loc[i]\n",
        "  if datant==data:\n",
        "    i=i+1\n",
        "    continue\n",
        "  elif datant == 0:\n",
        "    datant= data\n",
        "\n",
        "\n",
        "  tempo.append(data)   \n",
        "  a= dfa[(dfa['Data Venda']==data)]['PAX'].sum()\n",
        "  b= dfa[(dfa['Data Venda']==data)]['Monetário Vendido'].sum()\n",
        "  c= dfa[(dfa['Data Venda']==data)]['RPK'].sum()\n",
        "  pax.append(a)\n",
        "  monetario.append(b)\n",
        "  rpk.append(c)\n",
        "  datant=data\n",
        "  i=i+1\n"
      ],
      "execution_count": null,
      "outputs": []
    },
    {
      "cell_type": "code",
      "metadata": {
        "id": "_4O0np1IY_Vv"
      },
      "source": [
        "dfz=pd.DataFrame({'Data':tempo,'PAX':pax,'Monetário Vendido':monetario,'RPK':rpk})"
      ],
      "execution_count": null,
      "outputs": []
    },
    {
      "cell_type": "code",
      "metadata": {
        "id": "pYZCa2KQZB-Y"
      },
      "source": [
        "\n",
        "dfz.drop(labels=['Monetário Vendido','RPK'],axis=1,inplace=True)"
      ],
      "execution_count": null,
      "outputs": []
    },
    {
      "cell_type": "code",
      "metadata": {
        "id": "-XKtq_neNoLP"
      },
      "source": [
        "dfz.set_index('Data', inplace=True)"
      ],
      "execution_count": null,
      "outputs": []
    },
    {
      "cell_type": "code",
      "metadata": {
        "id": "IX8LqP4MkSeu"
      },
      "source": [
        "n, p = len(dfz), 0.7\n",
        "train = dfz[:int(n*p)]\n",
        "test = dfz[int(n*p):]"
      ],
      "execution_count": null,
      "outputs": []
    },
    {
      "cell_type": "code",
      "metadata": {
        "id": "62LnEKm2kToP",
        "colab": {
          "base_uri": "https://localhost:8080/"
        },
        "outputId": "c188779a-1ada-43b0-c0db-29e125cb4812"
      },
      "source": [
        "# Utilizando o ARIMA para fazer o forecast do devido modelo\n",
        "model = pm.auto_arima(train,\n",
        "                      seasonal=True,\n",
        "                      m=12,\n",
        "                      trace=True,\n",
        "                      error_action='ignore',\n",
        "                      suppress_warnings=True)\n",
        "\n",
        "# relatório\n",
        "print(model.summary())"
      ],
      "execution_count": null,
      "outputs": [
        {
          "output_type": "stream",
          "text": [
            "Performing stepwise search to minimize aic\n",
            " ARIMA(2,0,2)(1,0,1)[12] intercept   : AIC=444.267, Time=0.71 sec\n",
            " ARIMA(0,0,0)(0,0,0)[12] intercept   : AIC=439.467, Time=0.02 sec\n",
            " ARIMA(1,0,0)(1,0,0)[12] intercept   : AIC=436.627, Time=0.08 sec\n",
            " ARIMA(0,0,1)(0,0,1)[12] intercept   : AIC=438.176, Time=0.17 sec\n",
            " ARIMA(0,0,0)(0,0,0)[12]             : AIC=488.319, Time=0.01 sec\n",
            " ARIMA(1,0,0)(0,0,0)[12] intercept   : AIC=434.705, Time=0.02 sec\n",
            " ARIMA(1,0,0)(0,0,1)[12] intercept   : AIC=436.676, Time=0.05 sec\n",
            " ARIMA(1,0,0)(1,0,1)[12] intercept   : AIC=438.574, Time=0.11 sec\n",
            " ARIMA(2,0,0)(0,0,0)[12] intercept   : AIC=436.603, Time=0.04 sec\n",
            " ARIMA(1,0,1)(0,0,0)[12] intercept   : AIC=436.614, Time=0.03 sec\n",
            " ARIMA(0,0,1)(0,0,0)[12] intercept   : AIC=436.250, Time=0.09 sec\n",
            " ARIMA(2,0,1)(0,0,0)[12] intercept   : AIC=438.528, Time=0.05 sec\n",
            " ARIMA(1,0,0)(0,0,0)[12]             : AIC=440.157, Time=0.04 sec\n",
            "\n",
            "Best model:  ARIMA(1,0,0)(0,0,0)[12] intercept\n",
            "Total fit time: 1.490 seconds\n",
            "                               SARIMAX Results                                \n",
            "==============================================================================\n",
            "Dep. Variable:                      y   No. Observations:                   26\n",
            "Model:               SARIMAX(1, 0, 0)   Log Likelihood                -214.353\n",
            "Date:                Fri, 30 Jul 2021   AIC                            434.705\n",
            "Time:                        23:01:02   BIC                            438.479\n",
            "Sample:                             0   HQIC                           435.792\n",
            "                                 - 26                                         \n",
            "Covariance Type:                  opg                                         \n",
            "==============================================================================\n",
            "                 coef    std err          z      P>|z|      [0.025      0.975]\n",
            "------------------------------------------------------------------------------\n",
            "intercept   1434.2374   1020.249      1.406      0.160    -565.414    3433.889\n",
            "ar.L1          0.4420      0.414      1.067      0.286      -0.370       1.254\n",
            "sigma2      7.847e+05   1.49e+05      5.268      0.000    4.93e+05    1.08e+06\n",
            "===================================================================================\n",
            "Ljung-Box (L1) (Q):                   0.01   Jarque-Bera (JB):               204.29\n",
            "Prob(Q):                              0.92   Prob(JB):                         0.00\n",
            "Heteroskedasticity (H):               0.69   Skew:                             3.13\n",
            "Prob(H) (two-sided):                  0.60   Kurtosis:                        15.23\n",
            "===================================================================================\n",
            "\n",
            "Warnings:\n",
            "[1] Covariance matrix calculated using the outer product of gradients (complex-step).\n"
          ],
          "name": "stdout"
        }
      ]
    },
    {
      "cell_type": "code",
      "metadata": {
        "id": "YD3k7VkWau4r"
      },
      "source": [
        "# Fazendo o forecast com parte do treino \n",
        "forecast = model.predict(len(test)+15)"
      ],
      "execution_count": null,
      "outputs": []
    },
    {
      "cell_type": "code",
      "metadata": {
        "colab": {
          "base_uri": "https://localhost:8080/",
          "height": 337
        },
        "id": "yfMkLMW_ayZ6",
        "outputId": "10851242-79ab-4899-eeed-b70310a95192"
      },
      "source": [
        "plt.figure(figsize=(10, 5))\n",
        "plt.title('Passageiros Mindspace', fontsize=14, fontweight='bold')\n",
        "plt.plot(np.arange(int(n*p)), train.values,'.-', label='Treino')\n",
        "plt.plot(np.arange(int(n*p), n), test.values,'.-', label='Teste')\n",
        "plt.plot(np.arange(int(n*p), n+15), forecast,'.-', label='Predição')\n",
        "plt.grid()\n",
        "plt.legend()\n",
        "plt.show()"
      ],
      "execution_count": null,
      "outputs": [
        {
          "output_type": "display_data",
          "data": {
            "image/png": "[encoded data removed]",
            "text/plain": [
              "<Figure size 720x360 with 1 Axes>"
            ]
          },
          "metadata": {
            "tags": [],
            "needs_background": "light"
          }
        }
      ]
    },
    {
      "cell_type": "markdown",
      "metadata": {
        "id": "eLJ-y1DpoRCb"
      },
      "source": [
        "### **Arena**"
      ]
    },
    {
      "cell_type": "code",
      "metadata": {
        "id": "3I_GRwkeNCHA"
      },
      "source": [
        ""
      ],
      "execution_count": null,
      "outputs": []
    },
    {
      "cell_type": "code",
      "metadata": {
        "colab": {
          "base_uri": "https://localhost:8080/",
          "height": 372
        },
        "id": "wK-i7rdqn-yT",
        "outputId": "83cbed43-10af-42da-fbe1-6c7827c42067"
      },
      "source": [
        "plt.figure(figsize=(10, 5))\n",
        "plt.title('Passageiros Arena', fontsize=14, fontweight='bold')\n",
        "plt.xticks(rotation=40 )\n",
        "plt.plot(dfz['Data'], dfz['PAX'],'.-', label='Passageiros')\n",
        "plt.grid()\n",
        "plt.legend()\n",
        "plt.show()"
      ],
      "execution_count": null,
      "outputs": [
        {
          "output_type": "display_data",
          "data": {
            "image/png": "[encoded data removed]",
            "text/plain": [
              "<Figure size 720x360 with 1 Axes>"
            ]
          },
          "metadata": {
            "tags": [],
            "needs_background": "light"
          }
        }
      ]
    },
    {
      "cell_type": "code",
      "metadata": {
        "id": "PXmZPEIsoQyS"
      },
      "source": [
        "dfa=df[(df['Local de Venda']=='Arena')].copy()\n",
        "dfa.reset_index(inplace=True)"
      ],
      "execution_count": null,
      "outputs": []
    },
    {
      "cell_type": "code",
      "metadata": {
        "id": "kn_RaznYqft_"
      },
      "source": [
        "dfa.drop(labels=[\n",
        "                 'Canal de Venda','Local de Venda'\n",
        "],axis=1,inplace=True)"
      ],
      "execution_count": null,
      "outputs": []
    },
    {
      "cell_type": "code",
      "metadata": {
        "id": "7thPcoNjy8dm"
      },
      "source": [
        "pax=[]\n",
        "monetario=[]\n",
        "rpk=[]\n",
        "tempo=[]\n",
        "\n",
        "tam=len(dfa['Data Venda'].unique())\n",
        "datant=0\n",
        "for i in range(tam):\n",
        "\n",
        "\n",
        "  data=dfa['Data Venda'].loc[i]\n",
        "  if datant==data:\n",
        "    i=i+1\n",
        "    continue\n",
        "  elif datant == 0:\n",
        "    datant= data\n",
        "\n",
        "\n",
        "  tempo.append(data)   \n",
        "  a= dfa[(dfa['Data Venda']==data)]['PAX'].sum()\n",
        "  b= dfa[(dfa['Data Venda']==data)]['Monetário Vendido'].sum()\n",
        "  c= dfa[(dfa['Data Venda']==data)]['RPK'].sum()\n",
        "  pax.append(a)\n",
        "  monetario.append(b)\n",
        "  rpk.append(c)\n",
        "  datant=data\n",
        "  i=i+1\n"
      ],
      "execution_count": null,
      "outputs": []
    },
    {
      "cell_type": "code",
      "metadata": {
        "id": "hGsGz0KzwqsJ"
      },
      "source": [
        "dfz=pd.DataFrame({'Data':tempo,'PAX':pax,'Monetário Vendido':monetario,'RPK':rpk})"
      ],
      "execution_count": null,
      "outputs": []
    },
    {
      "cell_type": "code",
      "metadata": {
        "id": "Ok9XauMah8dd"
      },
      "source": [
        "tempo=dfz['Data']\n",
        "dfz.set_index('Data',inplace=True)"
      ],
      "execution_count": null,
      "outputs": []
    },
    {
      "cell_type": "code",
      "metadata": {
        "id": "ZeauLAASnpKD"
      },
      "source": [
        "dfz.drop(labels=['Monetário Vendido','RPK'],axis=1,inplace=True)"
      ],
      "execution_count": null,
      "outputs": []
    },
    {
      "cell_type": "code",
      "metadata": {
        "id": "fWOb5Gv3OqeF"
      },
      "source": [
        "# se necessário, descomentar e executar\n",
        "#!pip install pmdarima"
      ],
      "execution_count": null,
      "outputs": []
    },
    {
      "cell_type": "code",
      "metadata": {
        "id": "xESYXf4REVBy"
      },
      "source": [
        "import pmdarima as pm\n",
        "n, p = len(dfz), 0.7\n",
        "train = dfz[:int(n*p)]\n",
        "test = dfz[int(n*p):]"
      ],
      "execution_count": null,
      "outputs": []
    },
    {
      "cell_type": "code",
      "metadata": {
        "colab": {
          "base_uri": "https://localhost:8080/"
        },
        "id": "DyenluvZQu9S",
        "outputId": "f0ac4a86-c1dc-40e5-ccc2-e29956ef26fa"
      },
      "source": [
        "# treinando o modelo\n",
        "model = pm.auto_arima(train,\n",
        "                      seasonal=True,\n",
        "                      m=12,\n",
        "                      trace=True,\n",
        "                      error_action='ignore',\n",
        "                      suppress_warnings=True)\n",
        "\n",
        "# relatório\n",
        "print(model.summary())"
      ],
      "execution_count": null,
      "outputs": [
        {
          "output_type": "stream",
          "text": [
            "Performing stepwise search to minimize aic\n",
            " ARIMA(2,0,2)(1,0,1)[12] intercept   : AIC=456.422, Time=0.59 sec\n",
            " ARIMA(0,0,0)(0,0,0)[12] intercept   : AIC=450.384, Time=0.01 sec\n",
            " ARIMA(1,0,0)(1,0,0)[12] intercept   : AIC=448.868, Time=0.05 sec\n",
            " ARIMA(0,0,1)(0,0,1)[12] intercept   : AIC=449.967, Time=0.10 sec\n",
            " ARIMA(0,0,0)(0,0,0)[12]             : AIC=501.206, Time=0.01 sec\n",
            " ARIMA(1,0,0)(0,0,0)[12] intercept   : AIC=447.254, Time=0.02 sec\n",
            " ARIMA(1,0,0)(0,0,1)[12] intercept   : AIC=448.925, Time=0.07 sec\n",
            " ARIMA(1,0,0)(1,0,1)[12] intercept   : AIC=450.868, Time=0.10 sec\n",
            " ARIMA(2,0,0)(0,0,0)[12] intercept   : AIC=449.011, Time=0.04 sec\n",
            " ARIMA(1,0,1)(0,0,0)[12] intercept   : AIC=448.911, Time=0.03 sec\n",
            " ARIMA(0,0,1)(0,0,0)[12] intercept   : AIC=448.389, Time=0.02 sec\n",
            " ARIMA(2,0,1)(0,0,0)[12] intercept   : AIC=450.851, Time=0.06 sec\n",
            " ARIMA(1,0,0)(0,0,0)[12]             : AIC=452.964, Time=0.03 sec\n",
            "\n",
            "Best model:  ARIMA(1,0,0)(0,0,0)[12] intercept\n",
            "Total fit time: 1.163 seconds\n",
            "                               SARIMAX Results                                \n",
            "==============================================================================\n",
            "Dep. Variable:                      y   No. Observations:                   26\n",
            "Model:               SARIMAX(1, 0, 0)   Log Likelihood                -220.627\n",
            "Date:                Fri, 30 Jul 2021   AIC                            447.254\n",
            "Time:                        23:02:14   BIC                            451.029\n",
            "Sample:                             0   HQIC                           448.341\n",
            "                                 - 26                                         \n",
            "Covariance Type:                  opg                                         \n",
            "==============================================================================\n",
            "                 coef    std err          z      P>|z|      [0.025      0.975]\n",
            "------------------------------------------------------------------------------\n",
            "intercept   2038.5572    802.027      2.542      0.011     466.613    3610.502\n",
            "ar.L1          0.3855      0.234      1.650      0.099      -0.072       0.843\n",
            "sigma2      1.221e+06   2.23e+05      5.480      0.000    7.84e+05    1.66e+06\n",
            "===================================================================================\n",
            "Ljung-Box (L1) (Q):                   0.00   Jarque-Bera (JB):                99.54\n",
            "Prob(Q):                              0.97   Prob(JB):                         0.00\n",
            "Heteroskedasticity (H):               0.28   Skew:                             2.37\n",
            "Prob(H) (two-sided):                  0.07   Kurtosis:                        11.33\n",
            "===================================================================================\n",
            "\n",
            "Warnings:\n",
            "[1] Covariance matrix calculated using the outer product of gradients (complex-step).\n"
          ],
          "name": "stdout"
        }
      ]
    },
    {
      "cell_type": "code",
      "metadata": {
        "id": "5rvXa93FQwwR"
      },
      "source": [
        "forecast = model.predict(len(test)+15)"
      ],
      "execution_count": null,
      "outputs": []
    },
    {
      "cell_type": "code",
      "metadata": {
        "colab": {
          "base_uri": "https://localhost:8080/",
          "height": 337
        },
        "id": "VYImdlPfXE_i",
        "outputId": "15910e4f-ac78-45e3-c66f-7784bf26993f"
      },
      "source": [
        "# plot da predição\n",
        "plt.figure(figsize=(10, 5))\n",
        "plt.title('Passageiros Arena', fontsize=14, fontweight='bold')\n",
        "plt.plot(np.arange(int(n*p)), train.values,'.-', label='Treino')\n",
        "plt.plot(np.arange(int(n*p), n), test.values,'.-', label='Teste')\n",
        "plt.plot(np.arange(int(n*p), n+15), forecast,'.-', label='Predição')\n",
        "plt.grid()\n",
        "plt.legend()\n",
        "plt.show()"
      ],
      "execution_count": null,
      "outputs": [
        {
          "output_type": "display_data",
          "data": {
            "image/png": "[encoded data removed]",
            "text/plain": [
              "<Figure size 720x360 with 1 Axes>"
            ]
          },
          "metadata": {
            "tags": [],
            "needs_background": "light"
          }
        }
      ]
    },
    {
      "cell_type": "markdown",
      "metadata": {
        "id": "3Qto8b9IoVsy"
      },
      "source": [
        "### **Vast**"
      ]
    },
    {
      "cell_type": "code",
      "metadata": {
        "colab": {
          "base_uri": "https://localhost:8080/",
          "height": 343
        },
        "id": "S5x5-kcLpzoI",
        "outputId": "02fa1bfd-3f33-4488-8f73-a3e8ec6f2999"
      },
      "source": [
        "a=len(dfz['PAX'])\n",
        "plt.figure(figsize=(10, 5))\n",
        "plt.title('Passageiros Vast', fontsize=14, fontweight='bold')\n",
        "plt.xticks(rotation=40 )\n",
        "plt.plot(range(a), dfz['PAX'],'.-', label='Predição')\n",
        "plt.grid()\n",
        "plt.legend()\n",
        "plt.show()"
      ],
      "execution_count": null,
      "outputs": [
        {
          "output_type": "display_data",
          "data": {
            "image/png": "[encoded data removed]",
            "text/plain": [
              "<Figure size 720x360 with 1 Axes>"
            ]
          },
          "metadata": {
            "tags": [],
            "needs_background": "light"
          }
        }
      ]
    },
    {
      "cell_type": "code",
      "metadata": {
        "id": "XMhzEjZnoQrC"
      },
      "source": [
        "dfa=df[(df['Local de Venda']=='Vast')].copy()\n",
        "dfa.reset_index(inplace=True)\n",
        "temporal=dfa['Data Venda']\n",
        "\n",
        "dfa.drop(labels=[\n",
        "                 'Canal de Venda','Local de Venda'\n",
        "],axis=1,inplace=True)"
      ],
      "execution_count": null,
      "outputs": []
    },
    {
      "cell_type": "code",
      "metadata": {
        "id": "CiW2wmM2bCub"
      },
      "source": [
        "pax=[]\n",
        "monetario=[]\n",
        "rpk=[]\n",
        "tempo=[]\n",
        "\n",
        "tam=len(dfa['Data Venda'].unique())\n",
        "datant=0\n",
        "for i in range(tam):\n",
        "\n",
        "\n",
        "  data=dfa['Data Venda'].loc[i]\n",
        "  if datant==data:\n",
        "    i=i+1\n",
        "    continue\n",
        "  elif datant == 0:\n",
        "    datant= data\n",
        "\n",
        "\n",
        "  tempo.append(data)   \n",
        "  a= dfa[(dfa['Data Venda']==data)]['PAX'].sum()\n",
        "  b= dfa[(dfa['Data Venda']==data)]['Monetário Vendido'].sum()\n",
        "  c= dfa[(dfa['Data Venda']==data)]['RPK'].sum()\n",
        "  pax.append(a)\n",
        "  monetario.append(b)\n",
        "  rpk.append(c)\n",
        "  datant=data\n",
        "  i=i+1\n"
      ],
      "execution_count": null,
      "outputs": []
    },
    {
      "cell_type": "code",
      "metadata": {
        "id": "U0E0ndAxbHgE"
      },
      "source": [
        "dfz=pd.DataFrame({'Data':tempo,'PAX':pax,'Monetário Vendido':monetario,'RPK':rpk})"
      ],
      "execution_count": null,
      "outputs": []
    },
    {
      "cell_type": "code",
      "metadata": {
        "id": "c1htSgU0bHWz"
      },
      "source": [
        "dfz.drop(labels=['Monetário Vendido','RPK'],axis=1,inplace=True)"
      ],
      "execution_count": null,
      "outputs": []
    },
    {
      "cell_type": "code",
      "metadata": {
        "id": "SbxXlgFlbNIs"
      },
      "source": [
        "dfz.set_index('Data', inplace=True)"
      ],
      "execution_count": null,
      "outputs": []
    },
    {
      "cell_type": "code",
      "metadata": {
        "id": "yq2ZugDSbRxr"
      },
      "source": [
        "n, p = len(dfz), 0.7\n",
        "train = dfz[:int(n*p)]\n",
        "test = dfz[int(n*p):]"
      ],
      "execution_count": null,
      "outputs": []
    },
    {
      "cell_type": "code",
      "metadata": {
        "colab": {
          "base_uri": "https://localhost:8080/"
        },
        "id": "smvaKC2FbUKT",
        "outputId": "4a0994c6-79e9-4ddf-d65f-f8339ba87da4"
      },
      "source": [
        "model = pm.auto_arima(train,\n",
        "                      seasonal=True,\n",
        "                      m=12,\n",
        "                      trace=True,\n",
        "                      error_action='ignore',\n",
        "                      suppress_warnings=True)\n",
        "\n",
        "# relatório\n",
        "print(model.summary())"
      ],
      "execution_count": null,
      "outputs": [
        {
          "output_type": "stream",
          "text": [
            "Performing stepwise search to minimize aic\n",
            " ARIMA(2,0,2)(1,0,1)[12] intercept   : AIC=426.017, Time=0.65 sec\n",
            " ARIMA(0,0,0)(0,0,0)[12] intercept   : AIC=423.573, Time=0.01 sec\n",
            " ARIMA(1,0,0)(1,0,0)[12] intercept   : AIC=419.342, Time=0.07 sec\n",
            " ARIMA(0,0,1)(0,0,1)[12] intercept   : AIC=421.573, Time=0.20 sec\n",
            " ARIMA(0,0,0)(0,0,0)[12]             : AIC=499.781, Time=0.01 sec\n",
            " ARIMA(1,0,0)(0,0,0)[12] intercept   : AIC=417.534, Time=0.02 sec\n",
            " ARIMA(1,0,0)(0,0,1)[12] intercept   : AIC=419.500, Time=0.05 sec\n",
            " ARIMA(1,0,0)(1,0,1)[12] intercept   : AIC=420.546, Time=0.43 sec\n",
            " ARIMA(2,0,0)(0,0,0)[12] intercept   : AIC=418.789, Time=0.04 sec\n",
            " ARIMA(1,0,1)(0,0,0)[12] intercept   : AIC=418.611, Time=0.04 sec\n",
            " ARIMA(0,0,1)(0,0,0)[12] intercept   : AIC=419.784, Time=0.06 sec\n",
            " ARIMA(2,0,1)(0,0,0)[12] intercept   : AIC=420.387, Time=0.07 sec\n",
            " ARIMA(1,0,0)(0,0,0)[12]             : AIC=421.694, Time=0.03 sec\n",
            "\n",
            "Best model:  ARIMA(1,0,0)(0,0,0)[12] intercept\n",
            "Total fit time: 1.742 seconds\n",
            "                               SARIMAX Results                                \n",
            "==============================================================================\n",
            "Dep. Variable:                      y   No. Observations:                   26\n",
            "Model:               SARIMAX(1, 0, 0)   Log Likelihood                -205.767\n",
            "Date:                Fri, 30 Jul 2021   AIC                            417.534\n",
            "Time:                        23:59:58   BIC                            421.308\n",
            "Sample:                             0   HQIC                           418.621\n",
            "                                 - 26                                         \n",
            "Covariance Type:                  opg                                         \n",
            "==============================================================================\n",
            "                 coef    std err          z      P>|z|      [0.025      0.975]\n",
            "------------------------------------------------------------------------------\n",
            "intercept   1763.3277    595.302      2.962      0.003     596.556    2930.099\n",
            "ar.L1          0.4736      0.187      2.536      0.011       0.108       0.840\n",
            "sigma2      3.521e+05   6.95e+04      5.064      0.000    2.16e+05    4.88e+05\n",
            "===================================================================================\n",
            "Ljung-Box (L1) (Q):                   0.03   Jarque-Bera (JB):                 4.31\n",
            "Prob(Q):                              0.86   Prob(JB):                         0.12\n",
            "Heteroskedasticity (H):               0.72   Skew:                             0.47\n",
            "Prob(H) (two-sided):                  0.63   Kurtosis:                         4.75\n",
            "===================================================================================\n",
            "\n",
            "Warnings:\n",
            "[1] Covariance matrix calculated using the outer product of gradients (complex-step).\n"
          ],
          "name": "stdout"
        }
      ]
    },
    {
      "cell_type": "code",
      "metadata": {
        "id": "P2NfTfMkbo4N"
      },
      "source": [
        "forecast = model.predict(len(test)+15)"
      ],
      "execution_count": null,
      "outputs": []
    },
    {
      "cell_type": "code",
      "metadata": {
        "id": "Fbtc7TDXbrm1",
        "colab": {
          "base_uri": "https://localhost:8080/",
          "height": 337
        },
        "outputId": "ca213982-0b3f-4f2d-ec2f-d24f12874ef2"
      },
      "source": [
        "plt.figure(figsize=(10, 5))\n",
        "plt.title('Passageiros Vast', fontsize=14, fontweight='bold')\n",
        "plt.plot(np.arange(int(n*p)), train.values,'.-', label='Treino')\n",
        "plt.plot(np.arange(int(n*p), n), test.values,'.-', label='Teste')\n",
        "plt.plot(np.arange(int(n*p), n+15), forecast,'.-', label='Predição')\n",
        "plt.grid()\n",
        "plt.legend()\n",
        "plt.show()"
      ],
      "execution_count": null,
      "outputs": [
        {
          "output_type": "display_data",
          "data": {
            "image/png": "[encoded data removed]",
            "text/plain": [
              "<Figure size 720x360 with 1 Axes>"
            ]
          },
          "metadata": {
            "tags": [],
            "needs_background": "light"
          }
        }
      ]
    },
    {
      "cell_type": "markdown",
      "metadata": {
        "id": "rg7RDseroa90"
      },
      "source": [
        "### **Ellipsis**"
      ]
    },
    {
      "cell_type": "code",
      "metadata": {
        "colab": {
          "base_uri": "https://localhost:8080/",
          "height": 343
        },
        "id": "HzKeM59M3AWh",
        "outputId": "992e5433-ab44-47ed-ad6c-65fffa6e0879"
      },
      "source": [
        "a=len(dfz['PAX'])\n",
        "plt.figure(figsize=(10, 5))\n",
        "plt.title('Passageiros Ellipsis', fontsize=14, fontweight='bold')\n",
        "plt.xticks(rotation=40 )\n",
        "plt.plot(range(a), dfz['PAX'],'.-', label='Predição')\n",
        "plt.grid()\n",
        "plt.legend()\n",
        "plt.show()"
      ],
      "execution_count": null,
      "outputs": [
        {
          "output_type": "display_data",
          "data": {
            "image/png": "[encoded data removed]",
            "text/plain": [
              "<Figure size 720x360 with 1 Axes>"
            ]
          },
          "metadata": {
            "tags": [],
            "needs_background": "light"
          }
        }
      ]
    },
    {
      "cell_type": "code",
      "metadata": {
        "id": "_i1roVuuoU_i"
      },
      "source": [
        "dfa=df[(df['Local de Venda']=='Ellipsis')].copy()\n",
        "dfa.reset_index(inplace=True)\n",
        "temporal=dfa['Data Venda']\n",
        "\n",
        "dfa.drop(labels=[\n",
        "                 'Canal de Venda','Local de Venda'\n",
        "],axis=1,inplace=True)"
      ],
      "execution_count": null,
      "outputs": []
    },
    {
      "cell_type": "code",
      "metadata": {
        "id": "Bg9xpX9RoU8M"
      },
      "source": [
        "pax=[]\n",
        "monetario=[]\n",
        "rpk=[]\n",
        "tempo=[]\n",
        "\n",
        "tam=len(dfa['Data Venda'].unique())\n",
        "datant=0\n",
        "for i in range(tam):\n",
        "\n",
        "\n",
        "  data=dfa['Data Venda'].loc[i]\n",
        "  if datant==data:\n",
        "    i=i+1\n",
        "    continue\n",
        "  elif datant == 0:\n",
        "    datant= data\n",
        "\n",
        "\n",
        "  tempo.append(data)   \n",
        "  a= dfa[(dfa['Data Venda']==data)]['PAX'].sum()\n",
        "  b= dfa[(dfa['Data Venda']==data)]['Monetário Vendido'].sum()\n",
        "  c= dfa[(dfa['Data Venda']==data)]['RPK'].sum()\n",
        "  pax.append(a)\n",
        "  monetario.append(b)\n",
        "  rpk.append(c)\n",
        "  datant=data\n",
        "  i=i+1\n"
      ],
      "execution_count": null,
      "outputs": []
    },
    {
      "cell_type": "code",
      "metadata": {
        "id": "LHxILNImlAp9"
      },
      "source": [
        "dfz=pd.DataFrame({'Data':tempo,'PAX':pax,'Monetário Vendido':monetario,'RPK':rpk})"
      ],
      "execution_count": null,
      "outputs": []
    },
    {
      "cell_type": "code",
      "metadata": {
        "id": "Vuo8FWwclAdN"
      },
      "source": [
        "dfz.drop(labels=['Monetário Vendido','RPK'],axis=1,inplace=True)"
      ],
      "execution_count": null,
      "outputs": []
    },
    {
      "cell_type": "code",
      "metadata": {
        "id": "BftCaJ0KlLgF"
      },
      "source": [
        "dfz.set_index('Data', inplace=True)"
      ],
      "execution_count": null,
      "outputs": []
    },
    {
      "cell_type": "code",
      "metadata": {
        "id": "VD6t7zPblPA9"
      },
      "source": [
        "n, p = len(dfz), 0.7\n",
        "train = dfz[:int(n*p)]\n",
        "test = dfz[int(n*p):]"
      ],
      "execution_count": null,
      "outputs": []
    },
    {
      "cell_type": "code",
      "metadata": {
        "colab": {
          "base_uri": "https://localhost:8080/"
        },
        "id": "LxG5T2PFlS41",
        "outputId": "75ebfbc9-769a-4f9f-d5df-3a3c6bdd90e3"
      },
      "source": [
        "model = pm.auto_arima(train,\n",
        "                      seasonal=True,\n",
        "                      m=12,\n",
        "                      trace=True,\n",
        "                      error_action='ignore',\n",
        "                      suppress_warnings=True)\n",
        "\n",
        "# relatório\n",
        "print(model.summary())"
      ],
      "execution_count": null,
      "outputs": [
        {
          "output_type": "stream",
          "text": [
            "Performing stepwise search to minimize aic\n",
            " ARIMA(2,0,2)(1,0,1)[12] intercept   : AIC=411.488, Time=0.65 sec\n",
            " ARIMA(0,0,0)(0,0,0)[12] intercept   : AIC=405.774, Time=0.01 sec\n",
            " ARIMA(1,0,0)(1,0,0)[12] intercept   : AIC=403.413, Time=0.22 sec\n",
            " ARIMA(0,0,1)(0,0,1)[12] intercept   : AIC=404.833, Time=0.16 sec\n",
            " ARIMA(0,0,0)(0,0,0)[12]             : AIC=482.169, Time=0.01 sec\n",
            " ARIMA(1,0,0)(0,0,0)[12] intercept   : AIC=402.073, Time=0.06 sec\n",
            " ARIMA(1,0,0)(0,0,1)[12] intercept   : AIC=403.785, Time=0.12 sec\n",
            " ARIMA(1,0,0)(1,0,1)[12] intercept   : AIC=405.514, Time=0.37 sec\n",
            " ARIMA(2,0,0)(0,0,0)[12] intercept   : AIC=403.648, Time=0.09 sec\n",
            " ARIMA(1,0,1)(0,0,0)[12] intercept   : AIC=403.321, Time=0.08 sec\n",
            " ARIMA(0,0,1)(0,0,0)[12] intercept   : AIC=403.055, Time=0.08 sec\n",
            " ARIMA(2,0,1)(0,0,0)[12] intercept   : AIC=405.180, Time=0.14 sec\n",
            " ARIMA(1,0,0)(0,0,0)[12]             : AIC=406.061, Time=0.03 sec\n",
            "\n",
            "Best model:  ARIMA(1,0,0)(0,0,0)[12] intercept\n",
            "Total fit time: 2.071 seconds\n",
            "                               SARIMAX Results                                \n",
            "==============================================================================\n",
            "Dep. Variable:                      y   No. Observations:                   26\n",
            "Model:               SARIMAX(1, 0, 0)   Log Likelihood                -198.036\n",
            "Date:                Sat, 31 Jul 2021   AIC                            402.073\n",
            "Time:                        02:04:56   BIC                            405.847\n",
            "Sample:                             0   HQIC                           403.160\n",
            "                                 - 26                                         \n",
            "Covariance Type:                  opg                                         \n",
            "==============================================================================\n",
            "                 coef    std err          z      P>|z|      [0.025      0.975]\n",
            "------------------------------------------------------------------------------\n",
            "intercept   1510.7726    761.158      1.985      0.047      18.930    3002.616\n",
            "ar.L1          0.3720      0.326      1.143      0.253      -0.266       1.010\n",
            "sigma2      2.411e+05   6.99e+04      3.448      0.001    1.04e+05    3.78e+05\n",
            "===================================================================================\n",
            "Ljung-Box (L1) (Q):                   0.00   Jarque-Bera (JB):                 5.69\n",
            "Prob(Q):                              0.96   Prob(JB):                         0.06\n",
            "Heteroskedasticity (H):               0.43   Skew:                            -0.38\n",
            "Prob(H) (two-sided):                  0.22   Kurtosis:                         5.16\n",
            "===================================================================================\n",
            "\n",
            "Warnings:\n",
            "[1] Covariance matrix calculated using the outer product of gradients (complex-step).\n"
          ],
          "name": "stdout"
        }
      ]
    },
    {
      "cell_type": "code",
      "metadata": {
        "id": "mJEE4jqMlVoV"
      },
      "source": [
        "forecast = model.predict(len(test)+15)"
      ],
      "execution_count": null,
      "outputs": []
    },
    {
      "cell_type": "code",
      "metadata": {
        "colab": {
          "base_uri": "https://localhost:8080/",
          "height": 337
        },
        "id": "cAlkixbGlZiO",
        "outputId": "14e73659-38da-4682-97c2-a087b61dc109"
      },
      "source": [
        "plt.figure(figsize=(10, 5))\n",
        "plt.title('Passageiros Ellipsis', fontsize=14, fontweight='bold')\n",
        "plt.plot(np.arange(int(n*p)), train.values,'.-', label='Treino')\n",
        "plt.plot(np.arange(int(n*p), n), test.values,'.-', label='Teste')\n",
        "plt.plot(np.arange(int(n*p), n+15), forecast,'.-', label='Predição')\n",
        "plt.grid()\n",
        "plt.legend()\n",
        "plt.show()"
      ],
      "execution_count": null,
      "outputs": [
        {
          "output_type": "display_data",
          "data": {
            "image/png": "[encoded data removed]",
            "text/plain": [
              "<Figure size 720x360 with 1 Axes>"
            ]
          },
          "metadata": {
            "tags": [],
            "needs_background": "light"
          }
        }
      ]
    },
    {
      "cell_type": "markdown",
      "metadata": {
        "id": "NLhkCeT1nq7V"
      },
      "source": [
        "## **5**"
      ]
    },
    {
      "cell_type": "code",
      "metadata": {
        "colab": {
          "base_uri": "https://localhost:8080/",
          "height": 622
        },
        "id": "JcdCyf30Kxjf",
        "outputId": "56ac76aa-cd61-41b6-b3bb-0fc95eb0e513"
      },
      "source": [
        "# Utilizei um barplot para visualizar os passageiros por região\n",
        "plt.figure(figsize=(18,10))\n",
        "ax = sns.barplot(x='Local de Venda',y='PAX',data=df)\n",
        "ax.set_xticklabels(ax.get_xticklabels(), ha=\"right\", fontsize=8)\n",
        "plt.title('Passageiros por Area', fontsize=14, fontweight='bold')\n",
        "plt.show()"
      ],
      "execution_count": null,
      "outputs": [
        {
          "output_type": "display_data",
          "data": {
            "image/png": "[encoded data removed]",
            "text/plain": [
              "<Figure size 1296x720 with 1 Axes>"
            ]
          },
          "metadata": {
            "tags": [],
            "needs_background": "light"
          }
        }
      ]
    },
    {
      "cell_type": "code",
      "metadata": {
        "id": "doJz3O0Gpd-4"
      },
      "source": [
        "# Utilizei de one hot encoding para analisar a importancia de cada local\n",
        "x=pd.get_dummies(df['Local de Venda'])\n",
        "y=df.iloc[:,2]"
      ],
      "execution_count": null,
      "outputs": []
    },
    {
      "cell_type": "code",
      "metadata": {
        "colab": {
          "base_uri": "https://localhost:8080/"
        },
        "id": "DO6M-QUwyt74",
        "outputId": "c108919b-372d-46c9-f68c-cb7196631148"
      },
      "source": [
        "feature_list"
      ],
      "execution_count": null,
      "outputs": [
        {
          "output_type": "execute_result",
          "data": {
            "text/plain": [
              "['Arena', 'Ellipsis', 'Mindscape', 'Vast']"
            ]
          },
          "metadata": {
            "tags": []
          },
          "execution_count": 42
        }
      ]
    },
    {
      "cell_type": "code",
      "metadata": {
        "id": "5yQqdNR5t141"
      },
      "source": [
        "feature_list = list(x.columns)"
      ],
      "execution_count": null,
      "outputs": []
    },
    {
      "cell_type": "code",
      "metadata": {
        "id": "Q50dCFIluZ11"
      },
      "source": [
        "x=np.array(x)\n"
      ],
      "execution_count": null,
      "outputs": []
    },
    {
      "cell_type": "code",
      "metadata": {
        "id": "ztQxvA3lzD63"
      },
      "source": [
        "\"\"\"\n",
        "Utilizei de dois modelos de machine learning para a analise\n",
        "\"\"\""
      ],
      "execution_count": null,
      "outputs": []
    },
    {
      "cell_type": "code",
      "metadata": {
        "colab": {
          "base_uri": "https://localhost:8080/"
        },
        "id": "UpOS3LbpnyoV",
        "outputId": "8d90cf5c-acf5-4af1-8390-1bce0bd7a509"
      },
      "source": [
        "from sklearn.ensemble import RandomForestClassifier\n",
        "\n",
        "clf = RandomForestClassifier()      # (1)\n",
        "clf.fit(x, y)                       # (2)\n",
        "print(clf.feature_importances_)   "
      ],
      "execution_count": null,
      "outputs": [
        {
          "output_type": "stream",
          "text": [
            "[0.30867039 0.27050258 0.19158005 0.22924698]\n"
          ],
          "name": "stdout"
        }
      ]
    },
    {
      "cell_type": "code",
      "metadata": {
        "colab": {
          "base_uri": "https://localhost:8080/",
          "height": 312
        },
        "id": "GAWNszuwsdjB",
        "outputId": "b92a96a2-9c94-493a-b392-a2b2537324a4"
      },
      "source": [
        "from xgboost import XGBClassifier\n",
        "from xgboost import plot_importance\n",
        "\n",
        "# fit model to training data\n",
        "xgb_model = XGBClassifier(random_state = 0 )\n",
        "xgb_model.fit(x, y)\n",
        "\n",
        "print(\"Feature Importances : \", xgb_model.feature_importances_)\n",
        "\n",
        "# plot feature importance\n",
        "plot_importance(xgb_model )\n",
        "plt.show()"
      ],
      "execution_count": null,
      "outputs": [
        {
          "output_type": "stream",
          "text": [
            "Feature Importances :  [0.28666067 0.26005134 0.19928026 0.25400776]\n"
          ],
          "name": "stdout"
        },
        {
          "output_type": "display_data",
          "data": {
            "image/png": "[encoded data removed]",
            "text/plain": [
              "<Figure size 432x288 with 1 Axes>"
            ]
          },
          "metadata": {
            "tags": [],
            "needs_background": "light"
          }
        }
      ]
    },
    {
      "cell_type": "code",
      "metadata": {
        "id": "kxCymjNM0xJ9"
      },
      "source": [
        "random = clf.feature_importances_\n",
        "xgb=xgb_model.feature_importances_"
      ],
      "execution_count": null,
      "outputs": []
    },
    {
      "cell_type": "code",
      "metadata": {
        "id": "-mIS3OIfyEbQ"
      },
      "source": [
        "i=0\n",
        "RandomImportance= {}\n",
        "while i<4:\n",
        "  RandomImportance[feature_list[i]]= random[i]\n",
        "  i=i+1"
      ],
      "execution_count": null,
      "outputs": []
    },
    {
      "cell_type": "code",
      "metadata": {
        "id": "VQrpIrVc1Ziw"
      },
      "source": [
        "i=0\n",
        "XGBImportance= {}\n",
        "while i<4:\n",
        "  XGBImportance[feature_list[i]]= xgb[i]\n",
        "  i=i+1"
      ],
      "execution_count": null,
      "outputs": []
    },
    {
      "cell_type": "code",
      "metadata": {
        "id": "-1fJXW0JzViH"
      },
      "source": [
        "# A importancia de cada feature ordenada"
      ],
      "execution_count": null,
      "outputs": []
    },
    {
      "cell_type": "code",
      "metadata": {
        "colab": {
          "base_uri": "https://localhost:8080/"
        },
        "id": "ioa9tbg-1kYP",
        "outputId": "fb3da897-6b8a-4ec4-8f0d-5c21104d7b12"
      },
      "source": [
        "RandomImportance"
      ],
      "execution_count": null,
      "outputs": [
        {
          "output_type": "execute_result",
          "data": {
            "text/plain": [
              "{'Arena': 0.3086703884197792,\n",
              " 'Ellipsis': 0.2705025766386413,\n",
              " 'Mindscape': 0.19158005226239438,\n",
              " 'Vast': 0.22924698267918514}"
            ]
          },
          "metadata": {
            "tags": []
          },
          "execution_count": 50
        }
      ]
    },
    {
      "cell_type": "code",
      "metadata": {
        "colab": {
          "base_uri": "https://localhost:8080/"
        },
        "id": "BYdkDrf01o2j",
        "outputId": "6c7daccd-1c5c-437e-d7f6-b48c9536785f"
      },
      "source": [
        "XGBImportance"
      ],
      "execution_count": null,
      "outputs": [
        {
          "output_type": "execute_result",
          "data": {
            "text/plain": [
              "{'Arena': 0.28666067,\n",
              " 'Ellipsis': 0.26005134,\n",
              " 'Mindscape': 0.19928026,\n",
              " 'Vast': 0.25400776}"
            ]
          },
          "metadata": {
            "tags": []
          },
          "execution_count": 52
        }
      ]
    },
    {
      "cell_type": "code",
      "metadata": {
        "colab": {
          "base_uri": "https://localhost:8080/"
        },
        "id": "eGJtz5Ji12Xg",
        "outputId": "086a4285-bbe8-4e78-92ed-e0213a26f193"
      },
      "source": [
        "sortedDict1 = sorted(RandomImportance.items(), key=lambda x: x[1],reverse=True)\n",
        "sortedDict1"
      ],
      "execution_count": null,
      "outputs": [
        {
          "output_type": "execute_result",
          "data": {
            "text/plain": [
              "[('Arena', 0.3086703884197792),\n",
              " ('Ellipsis', 0.2705025766386413),\n",
              " ('Vast', 0.22924698267918514),\n",
              " ('Mindscape', 0.19158005226239438)]"
            ]
          },
          "metadata": {
            "tags": []
          },
          "execution_count": 57
        }
      ]
    },
    {
      "cell_type": "code",
      "metadata": {
        "colab": {
          "base_uri": "https://localhost:8080/"
        },
        "id": "Qh6Cz6Vp17zI",
        "outputId": "1d36054d-d5c9-4b68-ae3d-e475cb55df4b"
      },
      "source": [
        "sortedDict2 = sorted(XGBImportance.items(), key=lambda x: x[1],reverse=True)\n",
        "sortedDict2"
      ],
      "execution_count": null,
      "outputs": [
        {
          "output_type": "execute_result",
          "data": {
            "text/plain": [
              "[('Arena', 0.28666067),\n",
              " ('Ellipsis', 0.26005134),\n",
              " ('Vast', 0.25400776),\n",
              " ('Mindscape', 0.19928026)]"
            ]
          },
          "metadata": {
            "tags": []
          },
          "execution_count": 58
        }
      ]
    },
    {
      "cell_type": "code",
      "metadata": {
        "id": "0Y0PskHa2Aew"
      },
      "source": [
        "a=df['Local de Venda'].unique()\n",
        "for i in range(a):\n",
        "  "
      ],
      "execution_count": null,
      "outputs": []
    },
    {
      "cell_type": "code",
      "metadata": {
        "id": "YL34rz372Gt4"
      },
      "source": [
        "i=0\n",
        "a=df['Local de Venda'].unique()\n",
        "local= {}\n",
        "for i in range(len(a)):\n",
        "  local[a[i]]= df[(df['Local de Venda']==a[i])]['PAX'].sum()\n",
        "  i=i+1"
      ],
      "execution_count": null,
      "outputs": []
    },
    {
      "cell_type": "code",
      "metadata": {
        "colab": {
          "base_uri": "https://localhost:8080/"
        },
        "id": "bF2uZb6g4PDk",
        "outputId": "a65241d3-38cc-4fca-d4b3-5b219c06e099"
      },
      "source": [
        "local"
      ],
      "execution_count": null,
      "outputs": [
        {
          "output_type": "execute_result",
          "data": {
            "text/plain": [
              "{'Arena': 474388, 'Ellipsis': 373971, 'Mindscape': 399322, 'Vast': 510662}"
            ]
          },
          "metadata": {
            "tags": []
          },
          "execution_count": 301
        }
      ]
    },
    {
      "cell_type": "markdown",
      "metadata": {
        "id": "lFBeLGiC2iPy"
      },
      "source": [
        "## **6**"
      ]
    },
    {
      "cell_type": "code",
      "metadata": {
        "id": "kJ5fbKOj2lNC"
      },
      "source": [
        "#Cotação do Dolar(https://br.advfn.com/moeda/dolar/2017/01)\n",
        "#Tratei os dados e repeti os valores caso não houvesse cotação. Usei o Excel para tal\n",
        "dolar=pd.read_excel('dolar.xlsx')\n"
      ],
      "execution_count": null,
      "outputs": []
    },
    {
      "cell_type": "code",
      "metadata": {
        "id": "1pLSUaNKCBFW"
      },
      "source": [
        "dolar.set_index('Data',inplace=True)"
      ],
      "execution_count": null,
      "outputs": []
    },
    {
      "cell_type": "code",
      "metadata": {
        "id": "Mv1MisbV0PxT"
      },
      "source": [
        "df.set_index('Data Venda',inplace=True)"
      ],
      "execution_count": null,
      "outputs": []
    },
    {
      "cell_type": "code",
      "metadata": {
        "id": "oPWlpelsFfmc"
      },
      "source": [
        "df['Dolar']=dolar"
      ],
      "execution_count": null,
      "outputs": []
    },
    {
      "cell_type": "code",
      "metadata": {
        "colab": {
          "base_uri": "https://localhost:8080/",
          "height": 235
        },
        "id": "FJuTDKmGGxTR",
        "outputId": "cdcda42e-6eae-4480-c30f-0bdda79bc235"
      },
      "source": [
        "df.head()"
      ],
      "execution_count": null,
      "outputs": [
        {
          "output_type": "execute_result",
          "data": {
            "text/html": [
              "<div>\n",
              "<style scoped>\n",
              "    .dataframe tbody tr th:only-of-type {\n",
              "        vertical-align: middle;\n",
              "    }\n",
              "\n",
              "    .dataframe tbody tr th {\n",
              "        vertical-align: top;\n",
              "    }\n",
              "\n",
              "    .dataframe thead th {\n",
              "        text-align: right;\n",
              "    }\n",
              "</style>\n",
              "<table border=\"1\" class=\"dataframe\">\n",
              "  <thead>\n",
              "    <tr style=\"text-align: right;\">\n",
              "      <th></th>\n",
              "      <th>Canal de Venda</th>\n",
              "      <th>Local de Venda</th>\n",
              "      <th>PAX</th>\n",
              "      <th>Monetário Vendido</th>\n",
              "      <th>RPK</th>\n",
              "      <th>Dolar</th>\n",
              "    </tr>\n",
              "    <tr>\n",
              "      <th>Data Venda</th>\n",
              "      <th></th>\n",
              "      <th></th>\n",
              "      <th></th>\n",
              "      <th></th>\n",
              "      <th></th>\n",
              "      <th></th>\n",
              "    </tr>\n",
              "  </thead>\n",
              "  <tbody>\n",
              "    <tr>\n",
              "      <th>2016-11-01</th>\n",
              "      <td>Telégrafo</td>\n",
              "      <td>Mindscape</td>\n",
              "      <td>30</td>\n",
              "      <td>2188.109487</td>\n",
              "      <td>3476</td>\n",
              "      <td>3.2399</td>\n",
              "    </tr>\n",
              "    <tr>\n",
              "      <th>2016-11-01</th>\n",
              "      <td>TeleVenda</td>\n",
              "      <td>Arena</td>\n",
              "      <td>52</td>\n",
              "      <td>3302.375951</td>\n",
              "      <td>8197</td>\n",
              "      <td>3.2399</td>\n",
              "    </tr>\n",
              "    <tr>\n",
              "      <th>2016-11-01</th>\n",
              "      <td>TeleVenda</td>\n",
              "      <td>Mindscape</td>\n",
              "      <td>19</td>\n",
              "      <td>1041.544400</td>\n",
              "      <td>2425</td>\n",
              "      <td>3.2399</td>\n",
              "    </tr>\n",
              "    <tr>\n",
              "      <th>2016-11-01</th>\n",
              "      <td>Porta a Porta</td>\n",
              "      <td>Mindscape</td>\n",
              "      <td>496</td>\n",
              "      <td>15566.340547</td>\n",
              "      <td>53278</td>\n",
              "      <td>3.2399</td>\n",
              "    </tr>\n",
              "    <tr>\n",
              "      <th>2016-11-01</th>\n",
              "      <td>TeleVenda</td>\n",
              "      <td>Vast</td>\n",
              "      <td>46</td>\n",
              "      <td>2721.427289</td>\n",
              "      <td>2039</td>\n",
              "      <td>3.2399</td>\n",
              "    </tr>\n",
              "  </tbody>\n",
              "</table>\n",
              "</div>"
            ],
            "text/plain": [
              "           Canal de Venda Local de Venda  PAX  Monetário Vendido    RPK   Dolar\n",
              "Data Venda                                                                     \n",
              "2016-11-01      Telégrafo      Mindscape   30        2188.109487   3476  3.2399\n",
              "2016-11-01      TeleVenda          Arena   52        3302.375951   8197  3.2399\n",
              "2016-11-01      TeleVenda      Mindscape   19        1041.544400   2425  3.2399\n",
              "2016-11-01  Porta a Porta      Mindscape  496       15566.340547  53278  3.2399\n",
              "2016-11-01      TeleVenda           Vast   46        2721.427289   2039  3.2399"
            ]
          },
          "metadata": {
            "tags": []
          },
          "execution_count": 265
        }
      ]
    },
    {
      "cell_type": "code",
      "metadata": {
        "id": "yj22wjfc0rMs"
      },
      "source": [
        "df.drop(labels=['Canal de Venda','Local de Venda','Monetário Vendido','RPK'],axis=1,inplace=True)"
      ],
      "execution_count": null,
      "outputs": []
    },
    {
      "cell_type": "code",
      "metadata": {
        "id": "7NNbjFos_WWU"
      },
      "source": [
        "x=np.array(df['Dolar'])\n",
        "y=np.array(df['PAX'])"
      ],
      "execution_count": null,
      "outputs": []
    },
    {
      "cell_type": "code",
      "metadata": {
        "colab": {
          "base_uri": "https://localhost:8080/",
          "height": 427
        },
        "id": "aZh50ZkOBRch",
        "outputId": "47f1fe4b-bd3a-4082-9561-925fc96cd448"
      },
      "source": [
        "fig, axes = plt.subplots(1, 2, figsize=(18, 8))\n",
        "\n",
        "axes[0].plot(tempo, df['PAX'])\n",
        "axes[0].set_title(\"PAX\")\n",
        "\n",
        "axes[1].plot(tempo, df['Dolar'])\n",
        "axes[1].axis('tight')\n",
        "axes[1].set_title(\"Dolar\")"
      ],
      "execution_count": null,
      "outputs": [
        {
          "output_type": "execute_result",
          "data": {
            "text/plain": [
              "Text(0.5, 1.0, 'Dolar')"
            ]
          },
          "metadata": {
            "tags": []
          },
          "execution_count": 14
        },
        {
          "output_type": "display_data",
          "data": {
            "image/png": "[encoded data removed]",
            "text/plain": [
              "<Figure size 1296x576 with 2 Axes>"
            ]
          },
          "metadata": {
            "tags": [],
            "needs_background": "light"
          }
        }
      ]
    },
    {
      "cell_type": "code",
      "metadata": {
        "id": "_Yg76CMzgNjV"
      },
      "source": [
        "data=np.array(df['Dolar'])\n",
        "labele=np.array(df['PAX'])"
      ],
      "execution_count": null,
      "outputs": []
    },
    {
      "cell_type": "code",
      "metadata": {
        "id": "D77r-ihDjNJc"
      },
      "source": [
        "data=data.reshape(-1,1)"
      ],
      "execution_count": null,
      "outputs": []
    },
    {
      "cell_type": "code",
      "metadata": {
        "id": "1-5FEW5Uiwr8"
      },
      "source": [
        "from tensorflow.keras.layers import Input, LSTM, Dense, Flatten\n",
        "from tensorflow.keras.models import Model\n",
        "from tensorflow.keras.optimizers import Adam"
      ],
      "execution_count": null,
      "outputs": []
    },
    {
      "cell_type": "code",
      "metadata": {
        "id": "iToJmEudAz6H"
      },
      "source": [
        "# Utilizei LSTM pois se tratava de uma serie temporal, Os dados mostraram pouca correlação na variavel final\n",
        "i = Input(shape=(data.shape))\n",
        "x = LSTM(128,activation='relu')(i)\n",
        "x = Dense(10)(x)\n",
        "x = LSTM(128)(i)\n",
        "x = Dense(10)(x)\n",
        "model = Model(i, x)"
      ],
      "execution_count": null,
      "outputs": []
    },
    {
      "cell_type": "code",
      "metadata": {
        "id": "eCraUt6wNVLs"
      },
      "source": [
        "model.compile(optimizer='adam',\n",
        "              loss='mean_squared_error',\n",
        "              metrics=['accuracy'])\n",
        "r = model.fit(data, labele, validation_split=0.1, epochs=30)"
      ],
      "execution_count": null,
      "outputs": []
    },
    {
      "cell_type": "code",
      "metadata": {
        "colab": {
          "base_uri": "https://localhost:8080/",
          "height": 293
        },
        "id": "v5PjGCEpkO87",
        "outputId": "46225861-c280-4c25-9c24-f9cb8c5bc2b1"
      },
      "source": [
        "plt.plot(r.history['loss'], label='loss')\n",
        "plt.plot(r.history['val_loss'], label='val_loss')\n",
        "plt.legend()"
      ],
      "execution_count": null,
      "outputs": [
        {
          "output_type": "execute_result",
          "data": {
            "text/plain": [
              "<matplotlib.legend.Legend at 0x7f5a20471ad0>"
            ]
          },
          "metadata": {
            "tags": []
          },
          "execution_count": 49
        },
        {
          "output_type": "display_data",
          "data": {
            "image/png": "[encoded data removed]",
            "text/plain": [
              "<Figure size 432x288 with 1 Axes>"
            ]
          },
          "metadata": {
            "tags": [],
            "needs_background": "light"
          }
        }
      ]
    },
    {
      "cell_type": "code",
      "metadata": {
        "colab": {
          "base_uri": "https://localhost:8080/",
          "height": 335
        },
        "id": "MKJTLG1Fks04",
        "outputId": "319e3dc2-187c-49a2-9649-b73d61d5d5ce"
      },
      "source": [
        "outputs = model.predict(data)\n",
        "print(outputs.shape)\n",
        "predictions = outputs[:,0]\n",
        "\n",
        "plt.plot(labele, label='targets')\n",
        "plt.plot(predictions, label='predictions')\n",
        "plt.title(\"Linear Regression Predictions\")\n",
        "plt.legend()\n",
        "plt.show()"
      ],
      "execution_count": null,
      "outputs": [
        {
          "output_type": "stream",
          "text": [
            "WARNING:tensorflow:Model was constructed with shape (None, 2432, 1) for input KerasTensor(type_spec=TensorSpec(shape=(None, 2432, 1), dtype=tf.float32, name='input_6'), name='input_6', description=\"created by layer 'input_6'\"), but it was called on an input with incompatible shape (32, 1, 1).\n",
            "(2432, 10)\n"
          ],
          "name": "stdout"
        },
        {
          "output_type": "display_data",
          "data": {
            "image/png": "[encoded data removed]",
            "text/plain": [
              "<Figure size 432x288 with 1 Axes>"
            ]
          },
          "metadata": {
            "tags": [],
            "needs_background": "light"
          }
        }
      ]
    }
  ]
}